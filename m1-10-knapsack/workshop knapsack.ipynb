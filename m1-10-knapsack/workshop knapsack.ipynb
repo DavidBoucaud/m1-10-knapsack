{
 "cells": [
  {
   "cell_type": "markdown",
   "metadata": {},
   "source": [
    "## Knapsack Problem\n",
    "\n",
    "The *knapsack problem*:  given a set of integers $S = \\{s_1, s_2, \\ldots, s_n\\}$ and a target number $T$, find a subset (i.e., knapsack) of $S$ which adds up exactly to $T$.  \n",
    "\n",
    "For example, if $S = \\{1,2,5, 9, 10\\}$, there is a subset that adds up to $T = 22$, but not to $T = 23$.  Complete the following tasks related to this problem."
   ]
  },
  {
   "cell_type": "markdown",
   "metadata": {},
   "source": [
    "# 1. \n",
    "\n",
    "Find a subset of $S = \\{1,2,5, 9, 10\\}$ with sum $T = 22$.  Explain the process (algorithm) you used mentally to find the subset.  Then apply the same process in an attempt to find a subset with sum $T = 23$.  \n",
    "\n",
    "How do you know there is no such subset?"
   ]
  },
  {
   "source": [
    "The process by which I found the subset is the following:\n",
    "1. Add the numbers beginning with the largest.\n",
    "2. If you hit the target number, stop.\n",
    "3. If you overshoot the target number, remove the last number and try the next one.\n",
    "4. If you have tried all the potential final numbers, pick one then work backwards by switching out the second last number in the subset.\n",
    "\n",
    "I know that there is no subset, the sum of which is 23, because running my algorthim over the list twice does not find a combination which matches 23."
   ],
   "cell_type": "markdown",
   "metadata": {}
  },
  {
   "cell_type": "markdown",
   "metadata": {
    "collapsed": true
   },
   "source": [
    "# 2.\n",
    "\n",
    "Consider the following possible algorithm for the knapsack problem, written in psuedocode: \n",
    "```python\n",
    "knapsack(S[], T):\n",
    "    K = empty\n",
    "    for each i < size(S)\n",
    "        if sum(K) + S[i] <= T, put S[i] into K\n",
    "    if sum(K) = T, return K, else return False.\n",
    "```\n",
    "**a)** Describe what this algorithm does in English.  \n",
    "\n",
    "**b)** Implement this algorithm in Python and run it on the $S$ and $T$ above.\n",
    "\n",
    "\n",
    "**c)** Prove that this algorithm is NOT correct.  That is, find a counterexample: a set $S$ and number $T$ for which there is a solution, but not one that the algorithm finds.\n",
    "\n",
    "**d)** Verify that this particular $S$ and $T$ does not give the right output when entered to your Python program."
   ]
  },
  {
   "cell_type": "code",
   "execution_count": null,
   "metadata": {},
   "outputs": [],
   "source": [
    "#A. This algorithm sequeially adds the integers to the K, then tests to see if the sum of K is equal to T. \n",
    "\n",
    "#B.\n",
    "def knapsack(S, T):\n",
    "    K = []\n",
    "    for i in S:\n",
    "        if sum(K) + i <= T:\n",
    "            K.append(i)\n",
    "    if sum(K) == T:\n",
    "        return K\n",
    "    else:\n",
    "        return False\n",
    "\n",
    "S = [1, 2, 5, 9, 10] \n",
    "T = 1\n",
    "\n",
    "print('T = 1')\n",
    "print(knapsack(S, T))\n",
    "\n",
    "T = 8\n",
    "\n",
    "print('T = 8')\n",
    "print(knapsack(S, T))\n",
    "\n",
    "T = 23\n",
    "\n",
    "print('T = 23')\n",
    "print(knapsack(S, T))\n",
    "\n",
    "#C. This algorithm is wrong because it adds the items sequencially without trying other configurations. \n",
    "\n",
    "#D. We can easily trick the algorithm by setting a value for which there exist a subset, non sequencially.\n",
    "\n",
    "T=6\n",
    "print('T = 6')\n",
    "print(knapsack(S, T))"
   ]
  },
  {
   "cell_type": "markdown",
   "metadata": {},
   "source": [
    "# 3. \n",
    "\n",
    "Another try: What if you put the elements in the knapsack from largest to smallest?  Check that this too is not a correct algorithm."
   ]
  },
  {
   "cell_type": "code",
   "execution_count": null,
   "metadata": {},
   "outputs": [],
   "source": [
    "def knapsack(S, T):\n",
    "    K = []\n",
    "    S = sorted(S, reverse=True)\n",
    "    for i in S:\n",
    "        if sum(K) + i <= T:\n",
    "            K.append(i)\n",
    "    if sum(K) == T:\n",
    "        return K\n",
    "    else:\n",
    "        return False\n",
    "S = [1, 2, 5, 9, 10]\n",
    "T = 25\n",
    "print('S = [1, 2, 5, 9, 10]') \n",
    "print('T = 25')\n",
    "print(knapsack(S, T))"
   ]
  },
  {
   "cell_type": "markdown",
   "metadata": {},
   "source": [
    "# 4.\n",
    "\n",
    "Describe a correct algorithm for the knapsack problem (that we haven't seen in class), both in English and in pseudocode.  Then implement the algorithm in Python.  Explain how you know your algorithm is correct (even if it might not be efficient)."
   ]
  },
  {
   "source": [
    "The algorithm will collect the sums of all possible items (S), and remove them sequentially from smallest to largest until the backpack capacity is matched.\n",
    "\n",
    "knapsack(S[], T):\n",
    "    K = S\n",
    "    for each i < size(S)\n",
    "        if sum(K) + S[i] <= T, put S[i] into K\n",
    "    if sum(K) = T, return K, else return False.\n"
   ],
   "cell_type": "markdown",
   "metadata": {}
  },
  {
   "cell_type": "code",
   "execution_count": 42,
   "metadata": {},
   "outputs": [
    {
     "output_type": "stream",
     "name": "stdout",
     "text": [
      "S = [1, 2, 5, 9, 10]\nT = 14\n[5, 9]\n"
     ]
    }
   ],
   "source": [
    "def knapsack(S, T):\n",
    "    K = S\n",
    "    S = sorted(S, reverse=True)\n",
    "    sublist = []\n",
    "    for i in S:\n",
    "        if sum(K) - i >= T:\n",
    "            sublist.append(i)\n",
    "            K.remove(i)\n",
    "        else:\n",
    "            pass\n",
    "    if sum(K) < T:\n",
    "        for i in sublist:\n",
    "            if sum(K) + i <= T:\n",
    "                K.append(i)\n",
    "            else:\n",
    "                pass\n",
    "    if sum(K) == T:\n",
    "        return K\n",
    "    else:\n",
    "        return False\n",
    "\n",
    "S = [1, 2, 5, 9, 10]\n",
    "T = 14\n",
    "\n",
    "print('S = [1, 2, 5, 9, 10]') \n",
    "print('T = 14')\n",
    "print(knapsack(S, T))"
   ]
  },
  {
   "cell_type": "markdown",
   "metadata": {
    "collapsed": true
   },
   "source": [
    "# 5. Generating correct change\n",
    "\n",
    "Now, we will be making change using the fewest coins. \n",
    "\n",
    "Suppose you are a programmer for a vending machine manufacturer. Your company wants to streamline effort by giving out the fewest possible coins in change for each transaction. Suppose a customer puts in a dollar bill and purchases an item for 37 cents. What is the smallest number of coins you can use to make change? The answer is six coins: two quarters, one dime, and three pennies. \n",
    "\n",
    "How did we arrive at the answer of six coins? We start with the largest coin in our arsenal (a quarter) and use as many of those as possible, then we go to the next lowest coin value and use as many of those as possible. This is the greedy algorithm for change-making.\n",
    "\n",
    "**Question:** Write the greedy algorithm for change making.\n",
    "\n",
    "The input is the amount of change to generate (in pennies) and a list of coin sizes (in pennies)\n",
    "\n",
    "The output is the minimum number of coins to gener\n",
    "\n",
    "```\n",
    "# buys with 1 dollar for 37 pennies\n",
    "# Second argument says we can give quarters, dimes, nickels and pennies\n",
    "make_change(100 - 37, [25, 10, 5, 1])\n",
    "\n",
    "# 2 quarters, one dime, and three pennies\n",
    "output --> 6 # Output would be equivalent to the choices [2, 1, 0, 3]\n",
    "```"
   ]
  },
  {
   "cell_type": "code",
   "execution_count": 43,
   "metadata": {},
   "outputs": [
    {
     "output_type": "execute_result",
     "data": {
      "text/plain": [
       "[5, 1, 0, 2]"
      ]
     },
     "metadata": {},
     "execution_count": 43
    }
   ],
   "source": [
    "def make_change(change, coins):\n",
    "    true_index = coins\n",
    "    coins = sorted(coins, reverse = True)\n",
    "    the_count = 0\n",
    "    dispense = [0] * len(coins)\n",
    "    for coin in coins:\n",
    "        if the_count + coin <= change:\n",
    "            dispense[true_index.index(coin)] += 1\n",
    "            the_count += coin\n",
    "            coins.insert(0, coin)\n",
    "            pass\n",
    "    if the_count == change:\n",
    "        return dispense\n",
    "    else:\n",
    "        return \"Too bad\"\n",
    "\n",
    "make_change(137, [25, 10, 5, 1])\n"
   ]
  },
  {
   "cell_type": "markdown",
   "metadata": {},
   "source": [
    "# 6 Recursive change\n",
    "\n",
    "Write the greedy change making algorithm using recursion"
   ]
  },
  {
   "cell_type": "code",
   "execution_count": 41,
   "metadata": {},
   "outputs": [
    {
     "output_type": "execute_result",
     "data": {
      "text/plain": [
       "[25, [25, [5, [1, [1, 1]]]]]"
      ]
     },
     "metadata": {},
     "execution_count": 41
    }
   ],
   "source": [
    "def change_recursive(change, coins):\n",
    "    coins = sorted(coins, reverse=False)\n",
    "    coin_flag = 0\n",
    "    for c in coins:\n",
    "        if change - c == 0:\n",
    "            return c\n",
    "        if change - c > 0:\n",
    "            coin_flag = c\n",
    "    the_count = change - coin_flag\n",
    "    return [coin_flag] + [change_recursive(the_count, coins)]  \n",
    "\n",
    "change_recursive(58, [25, 10, 5, 1])"
   ]
  },
  {
   "cell_type": "markdown",
   "metadata": {},
   "source": [
    "# 7 Dynamic Programming Change making\n",
    "\n",
    "Write a solution to the change making problem using dynamic programming.\n",
    "\n",
    "**Hint:** Start with making change for one cent and systematically work its way up to the amount of change we require. This guarantees us that at each step of the algorithm we already know the minimum number of coins needed to make change for any smaller amount. Keep a memoized table of results for each step working up to the amount of change you need to generate."
   ]
  },
  {
   "cell_type": "code",
   "execution_count": null,
   "metadata": {},
   "outputs": [],
   "source": []
  },
  {
   "cell_type": "code",
   "execution_count": null,
   "metadata": {},
   "outputs": [],
   "source": []
  }
 ],
 "metadata": {
  "kernelspec": {
   "display_name": "Python 3",
   "language": "python",
   "name": "python3"
  },
  "language_info": {
   "codemirror_mode": {
    "name": "ipython",
    "version": 3
   },
   "file_extension": ".py",
   "mimetype": "text/x-python",
   "name": "python",
   "nbconvert_exporter": "python",
   "pygments_lexer": "ipython3",
   "version": "3.8.3-final"
  }
 },
 "nbformat": 4,
 "nbformat_minor": 1
}